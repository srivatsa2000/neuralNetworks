{
  "nbformat": 4,
  "nbformat_minor": 0,
  "metadata": {
    "colab": {
      "name": "BankModelling.ipynb",
      "version": "0.3.2",
      "provenance": [],
      "collapsed_sections": [],
      "include_colab_link": true
    },
    "kernelspec": {
      "name": "python3",
      "display_name": "Python 3"
    },
    "accelerator": "GPU"
  },
  "cells": [
    {
      "cell_type": "markdown",
      "metadata": {
        "id": "view-in-github",
        "colab_type": "text"
      },
      "source": [
        "<a href=\"https://colab.research.google.com/github/srivatsa2000/neuralNetworks/blob/master/BankModelling.ipynb\" target=\"_parent\"><img src=\"https://colab.research.google.com/assets/colab-badge.svg\" alt=\"Open In Colab\"/></a>"
      ]
    },
    {
      "metadata": {
        "id": "ih7H5L5u_wwg",
        "colab_type": "code",
        "colab": {}
      },
      "cell_type": "code",
      "source": [
        "import numpy as np\n",
        "import matplotlib.pyplot as plt\n",
        "import pandas as pd"
      ],
      "execution_count": 0,
      "outputs": []
    },
    {
      "metadata": {
        "id": "x1FVtY8m_39N",
        "colab_type": "code",
        "outputId": "9fde1a7e-c336-4b73-c518-ca3388ae521e",
        "colab": {
          "base_uri": "https://localhost:8080/",
          "height": 122
        }
      },
      "cell_type": "code",
      "source": [
        "import os\n",
        "from google.colab import drive\n",
        "drive.mount('/content/drive')\n"
      ],
      "execution_count": 3,
      "outputs": [
        {
          "output_type": "stream",
          "text": [
            "Go to this URL in a browser: https://accounts.google.com/o/oauth2/auth?client_id=947318989803-6bn6qk8qdgf4n4g3pfee6491hc0brc4i.apps.googleusercontent.com&redirect_uri=urn%3Aietf%3Awg%3Aoauth%3A2.0%3Aoob&scope=email%20https%3A%2F%2Fwww.googleapis.com%2Fauth%2Fdocs.test%20https%3A%2F%2Fwww.googleapis.com%2Fauth%2Fdrive%20https%3A%2F%2Fwww.googleapis.com%2Fauth%2Fdrive.photos.readonly%20https%3A%2F%2Fwww.googleapis.com%2Fauth%2Fpeopleapi.readonly&response_type=code\n",
            "\n",
            "Enter your authorization code:\n",
            "··········\n",
            "Mounted at /content/drive\n"
          ],
          "name": "stdout"
        }
      ]
    },
    {
      "metadata": {
        "id": "H6IjFCRPAPUj",
        "colab_type": "code",
        "outputId": "e84eb9a4-d56a-4d7f-c159-82982c525fa5",
        "colab": {
          "base_uri": "https://localhost:8080/",
          "height": 181
        }
      },
      "cell_type": "code",
      "source": [
        "os.chdir('/content/drive/My Drive/NeuralNetworkFiles/Churn_Modelling.csv')\n",
        "!ls"
      ],
      "execution_count": 4,
      "outputs": [
        {
          "output_type": "error",
          "ename": "NotADirectoryError",
          "evalue": "ignored",
          "traceback": [
            "\u001b[0;31m---------------------------------------------------------------------------\u001b[0m",
            "\u001b[0;31mNotADirectoryError\u001b[0m                        Traceback (most recent call last)",
            "\u001b[0;32m<ipython-input-4-c1e477b5f6a5>\u001b[0m in \u001b[0;36m<module>\u001b[0;34m()\u001b[0m\n\u001b[0;32m----> 1\u001b[0;31m \u001b[0mos\u001b[0m\u001b[0;34m.\u001b[0m\u001b[0mchdir\u001b[0m\u001b[0;34m(\u001b[0m\u001b[0;34m'/content/drive/My Drive/NeuralNetworkFiles/Churn_Modelling.csv'\u001b[0m\u001b[0;34m)\u001b[0m\u001b[0;34m\u001b[0m\u001b[0;34m\u001b[0m\u001b[0m\n\u001b[0m\u001b[1;32m      2\u001b[0m \u001b[0mget_ipython\u001b[0m\u001b[0;34m(\u001b[0m\u001b[0;34m)\u001b[0m\u001b[0;34m.\u001b[0m\u001b[0msystem\u001b[0m\u001b[0;34m(\u001b[0m\u001b[0;34m'ls'\u001b[0m\u001b[0;34m)\u001b[0m\u001b[0;34m\u001b[0m\u001b[0;34m\u001b[0m\u001b[0m\n",
            "\u001b[0;31mNotADirectoryError\u001b[0m: [Errno 20] Not a directory: '/content/drive/My Drive/NeuralNetworkFiles/Churn_Modelling.csv'"
          ]
        }
      ]
    },
    {
      "metadata": {
        "id": "gSyGKRQRBFel",
        "colab_type": "code",
        "colab": {}
      },
      "cell_type": "code",
      "source": [
        "dataset = pd.read_csv('/content/drive/My Drive/NeuralNetworkFiles/Churn_Modelling.csv')\n",
        "X = dataset.iloc[:, 3:13].values\n",
        "y = dataset.iloc[:, 13].values"
      ],
      "execution_count": 0,
      "outputs": []
    },
    {
      "metadata": {
        "id": "5ktt0PLqerxo",
        "colab_type": "code",
        "outputId": "ffd5186e-33ce-4b32-cb1f-212bcff96342",
        "colab": {
          "base_uri": "https://localhost:8080/",
          "height": 139
        }
      },
      "cell_type": "code",
      "source": [
        "# Encoding categorical data\n",
        "from sklearn.preprocessing import LabelEncoder, OneHotEncoder\n",
        "labelencoder_X_Country = LabelEncoder()\n",
        "X[:, 1] = labelencoder_X_Country.fit_transform(X[:, 1])\n",
        "\n",
        "labelencoder_X_Gender = LabelEncoder()\n",
        "X[:, 2] = labelencoder_X_Gender.fit_transform(X[:, 2])\n",
        "\n",
        "\n",
        "onehotencoder = OneHotEncoder(categorical_features = [1])\n",
        "X = onehotencoder.fit_transform(X).toarray()"
      ],
      "execution_count": 6,
      "outputs": [
        {
          "output_type": "stream",
          "text": [
            "/usr/local/lib/python3.6/dist-packages/sklearn/preprocessing/_encoders.py:368: FutureWarning: The handling of integer data will change in version 0.22. Currently, the categories are determined based on the range [0, max(values)], while in the future they will be determined based on the unique values.\n",
            "If you want the future behaviour and silence this warning, you can specify \"categories='auto'\".\n",
            "In case you used a LabelEncoder before this OneHotEncoder to convert the categories to integers, then you can now use the OneHotEncoder directly.\n",
            "  warnings.warn(msg, FutureWarning)\n",
            "/usr/local/lib/python3.6/dist-packages/sklearn/preprocessing/_encoders.py:390: DeprecationWarning: The 'categorical_features' keyword is deprecated in version 0.20 and will be removed in 0.22. You can use the ColumnTransformer instead.\n",
            "  \"use the ColumnTransformer instead.\", DeprecationWarning)\n"
          ],
          "name": "stderr"
        }
      ]
    },
    {
      "metadata": {
        "id": "cEoDdtwkgqep",
        "colab_type": "code",
        "colab": {}
      },
      "cell_type": "code",
      "source": [
        "X = X[:,1:]"
      ],
      "execution_count": 0,
      "outputs": []
    },
    {
      "metadata": {
        "id": "1Le3cbWmgy90",
        "colab_type": "code",
        "colab": {}
      },
      "cell_type": "code",
      "source": [
        "from sklearn.model_selection import train_test_split\n",
        "\n",
        "X_train, X_test, y_train, y_test = train_test_split(X, y, test_size = 0.2, random_state = 0)"
      ],
      "execution_count": 0,
      "outputs": []
    },
    {
      "metadata": {
        "id": "AuBb8CT7iMSF",
        "colab_type": "code",
        "colab": {}
      },
      "cell_type": "code",
      "source": [
        "# Feature Scaling\n",
        "from sklearn.preprocessing import StandardScaler\n",
        "sc = StandardScaler()\n",
        "X_train = sc.fit_transform(X_train)\n",
        "X_test = sc.transform(X_test)"
      ],
      "execution_count": 0,
      "outputs": []
    },
    {
      "metadata": {
        "id": "LZKTgHYNikAY",
        "colab_type": "code",
        "colab": {
          "base_uri": "https://localhost:8080/",
          "height": 34
        },
        "outputId": "814211aa-84d5-4179-b7a6-92d4936186c6"
      },
      "cell_type": "code",
      "source": [
        "#Keras imports\n",
        "import keras\n",
        "from keras.models import Sequential\n",
        "from keras.layers import Dense"
      ],
      "execution_count": 10,
      "outputs": [
        {
          "output_type": "stream",
          "text": [
            "Using TensorFlow backend.\n"
          ],
          "name": "stderr"
        }
      ]
    },
    {
      "metadata": {
        "id": "rFXu0a1goq_N",
        "colab_type": "code",
        "outputId": "afea39fe-3ae9-4d5d-c11c-74ee7f939723",
        "colab": {
          "base_uri": "https://localhost:8080/",
          "height": 34
        }
      },
      "cell_type": "code",
      "source": [
        "X_train.shape"
      ],
      "execution_count": 11,
      "outputs": [
        {
          "output_type": "execute_result",
          "data": {
            "text/plain": [
              "(8000, 11)"
            ]
          },
          "metadata": {
            "tags": []
          },
          "execution_count": 11
        }
      ]
    },
    {
      "metadata": {
        "id": "u1NKPP35jsa9",
        "colab_type": "code",
        "outputId": "dec6f607-2e26-4c8c-eb4f-d8dedb2903a1",
        "colab": {
          "base_uri": "https://localhost:8080/",
          "height": 3570
        }
      },
      "cell_type": "code",
      "source": [
        "#Building the model \n",
        "\n",
        "model = Sequential()\n",
        "model.add(Dense(output_dim=6, init='uniform',activation='relu',input_dim=11))\n",
        "model.add(Dense(output_dim=6, init='uniform',activation='relu'))\n",
        "model.add(Dense(output_dim=1, init='uniform',activation='sigmoid'))\n",
        "model.compile(optimizer = 'adam',loss = 'binary_crossentropy', metrics = ['accuracy'])\n",
        "model.fit(X_train,y_train,batch_size=10, nb_epoch = 100)"
      ],
      "execution_count": 12,
      "outputs": [
        {
          "output_type": "stream",
          "text": [
            "/usr/local/lib/python3.6/dist-packages/ipykernel_launcher.py:3: UserWarning: Update your `Dense` call to the Keras 2 API: `Dense(activation=\"relu\", input_dim=11, units=6, kernel_initializer=\"uniform\")`\n",
            "  This is separate from the ipykernel package so we can avoid doing imports until\n",
            "/usr/local/lib/python3.6/dist-packages/ipykernel_launcher.py:4: UserWarning: Update your `Dense` call to the Keras 2 API: `Dense(activation=\"relu\", units=6, kernel_initializer=\"uniform\")`\n",
            "  after removing the cwd from sys.path.\n",
            "/usr/local/lib/python3.6/dist-packages/ipykernel_launcher.py:5: UserWarning: Update your `Dense` call to the Keras 2 API: `Dense(activation=\"sigmoid\", units=1, kernel_initializer=\"uniform\")`\n",
            "  \"\"\"\n",
            "/usr/local/lib/python3.6/dist-packages/ipykernel_launcher.py:7: UserWarning: The `nb_epoch` argument in `fit` has been renamed `epochs`.\n",
            "  import sys\n"
          ],
          "name": "stderr"
        },
        {
          "output_type": "stream",
          "text": [
            "Epoch 1/100\n",
            "8000/8000 [==============================] - 6s 693us/step - loss: 0.4796 - acc: 0.7960\n",
            "Epoch 2/100\n",
            "8000/8000 [==============================] - 4s 452us/step - loss: 0.4261 - acc: 0.7960\n",
            "Epoch 3/100\n",
            "8000/8000 [==============================] - 4s 457us/step - loss: 0.4197 - acc: 0.8081\n",
            "Epoch 4/100\n",
            "8000/8000 [==============================] - 4s 460us/step - loss: 0.4167 - acc: 0.8260\n",
            "Epoch 5/100\n",
            "8000/8000 [==============================] - 4s 457us/step - loss: 0.4145 - acc: 0.8312\n",
            "Epoch 6/100\n",
            "8000/8000 [==============================] - 4s 457us/step - loss: 0.4134 - acc: 0.8302\n",
            "Epoch 7/100\n",
            "8000/8000 [==============================] - 4s 455us/step - loss: 0.4121 - acc: 0.8326\n",
            "Epoch 8/100\n",
            "8000/8000 [==============================] - 4s 459us/step - loss: 0.4107 - acc: 0.8335\n",
            "Epoch 9/100\n",
            "8000/8000 [==============================] - 4s 456us/step - loss: 0.4097 - acc: 0.8337\n",
            "Epoch 10/100\n",
            "8000/8000 [==============================] - 4s 457us/step - loss: 0.4089 - acc: 0.8334\n",
            "Epoch 11/100\n",
            "8000/8000 [==============================] - 4s 460us/step - loss: 0.4079 - acc: 0.8347\n",
            "Epoch 12/100\n",
            "8000/8000 [==============================] - 4s 462us/step - loss: 0.4075 - acc: 0.8335\n",
            "Epoch 13/100\n",
            "8000/8000 [==============================] - 4s 471us/step - loss: 0.4067 - acc: 0.8347\n",
            "Epoch 14/100\n",
            "8000/8000 [==============================] - 4s 454us/step - loss: 0.4063 - acc: 0.8346\n",
            "Epoch 15/100\n",
            "8000/8000 [==============================] - 4s 451us/step - loss: 0.4057 - acc: 0.8342\n",
            "Epoch 16/100\n",
            "8000/8000 [==============================] - 4s 457us/step - loss: 0.4052 - acc: 0.8362\n",
            "Epoch 17/100\n",
            "8000/8000 [==============================] - 4s 457us/step - loss: 0.4054 - acc: 0.8341\n",
            "Epoch 18/100\n",
            "8000/8000 [==============================] - 4s 455us/step - loss: 0.4046 - acc: 0.8346\n",
            "Epoch 19/100\n",
            "8000/8000 [==============================] - 4s 454us/step - loss: 0.4039 - acc: 0.8341\n",
            "Epoch 20/100\n",
            "8000/8000 [==============================] - 4s 456us/step - loss: 0.4042 - acc: 0.8350\n",
            "Epoch 21/100\n",
            "8000/8000 [==============================] - 4s 450us/step - loss: 0.4040 - acc: 0.8364\n",
            "Epoch 22/100\n",
            "8000/8000 [==============================] - 4s 455us/step - loss: 0.4035 - acc: 0.8349\n",
            "Epoch 23/100\n",
            "8000/8000 [==============================] - 4s 451us/step - loss: 0.4031 - acc: 0.8341\n",
            "Epoch 24/100\n",
            "8000/8000 [==============================] - 4s 450us/step - loss: 0.4027 - acc: 0.8356\n",
            "Epoch 25/100\n",
            "8000/8000 [==============================] - 4s 457us/step - loss: 0.4030 - acc: 0.8352\n",
            "Epoch 26/100\n",
            "8000/8000 [==============================] - 4s 457us/step - loss: 0.4027 - acc: 0.8345\n",
            "Epoch 27/100\n",
            "8000/8000 [==============================] - 4s 453us/step - loss: 0.4023 - acc: 0.8356\n",
            "Epoch 28/100\n",
            "8000/8000 [==============================] - 4s 448us/step - loss: 0.4025 - acc: 0.8344\n",
            "Epoch 29/100\n",
            "8000/8000 [==============================] - 4s 459us/step - loss: 0.4025 - acc: 0.8342\n",
            "Epoch 30/100\n",
            "8000/8000 [==============================] - 4s 451us/step - loss: 0.4019 - acc: 0.8354\n",
            "Epoch 31/100\n",
            "8000/8000 [==============================] - 4s 457us/step - loss: 0.4022 - acc: 0.8351\n",
            "Epoch 32/100\n",
            "8000/8000 [==============================] - 4s 450us/step - loss: 0.4019 - acc: 0.8354\n",
            "Epoch 33/100\n",
            "8000/8000 [==============================] - 4s 454us/step - loss: 0.4018 - acc: 0.8357\n",
            "Epoch 34/100\n",
            "8000/8000 [==============================] - 4s 452us/step - loss: 0.4019 - acc: 0.8350\n",
            "Epoch 35/100\n",
            "8000/8000 [==============================] - 4s 453us/step - loss: 0.4015 - acc: 0.8351\n",
            "Epoch 36/100\n",
            "8000/8000 [==============================] - 4s 450us/step - loss: 0.4019 - acc: 0.8341\n",
            "Epoch 37/100\n",
            "8000/8000 [==============================] - 4s 451us/step - loss: 0.4008 - acc: 0.8350\n",
            "Epoch 38/100\n",
            "8000/8000 [==============================] - 4s 456us/step - loss: 0.4014 - acc: 0.8342\n",
            "Epoch 39/100\n",
            "8000/8000 [==============================] - 4s 448us/step - loss: 0.4010 - acc: 0.8344\n",
            "Epoch 40/100\n",
            "8000/8000 [==============================] - 4s 450us/step - loss: 0.4011 - acc: 0.8326\n",
            "Epoch 41/100\n",
            "8000/8000 [==============================] - 4s 448us/step - loss: 0.4011 - acc: 0.8345\n",
            "Epoch 42/100\n",
            "8000/8000 [==============================] - 4s 453us/step - loss: 0.4013 - acc: 0.8365\n",
            "Epoch 43/100\n",
            "8000/8000 [==============================] - 4s 451us/step - loss: 0.4007 - acc: 0.8352\n",
            "Epoch 44/100\n",
            "8000/8000 [==============================] - 4s 454us/step - loss: 0.4012 - acc: 0.8332\n",
            "Epoch 45/100\n",
            "8000/8000 [==============================] - 4s 453us/step - loss: 0.4010 - acc: 0.8361\n",
            "Epoch 46/100\n",
            "8000/8000 [==============================] - 4s 452us/step - loss: 0.4005 - acc: 0.8347\n",
            "Epoch 47/100\n",
            "8000/8000 [==============================] - 4s 453us/step - loss: 0.4010 - acc: 0.8345\n",
            "Epoch 48/100\n",
            "8000/8000 [==============================] - 4s 450us/step - loss: 0.4011 - acc: 0.8344\n",
            "Epoch 49/100\n",
            "8000/8000 [==============================] - 4s 452us/step - loss: 0.4006 - acc: 0.8350\n",
            "Epoch 50/100\n",
            "8000/8000 [==============================] - 4s 453us/step - loss: 0.4006 - acc: 0.8345\n",
            "Epoch 51/100\n",
            "8000/8000 [==============================] - 4s 452us/step - loss: 0.4002 - acc: 0.8347\n",
            "Epoch 52/100\n",
            "8000/8000 [==============================] - 4s 452us/step - loss: 0.4008 - acc: 0.8355\n",
            "Epoch 53/100\n",
            "8000/8000 [==============================] - 4s 461us/step - loss: 0.4005 - acc: 0.8336\n",
            "Epoch 54/100\n",
            "8000/8000 [==============================] - 4s 450us/step - loss: 0.4005 - acc: 0.8355\n",
            "Epoch 55/100\n",
            "8000/8000 [==============================] - 4s 457us/step - loss: 0.4002 - acc: 0.8342\n",
            "Epoch 56/100\n",
            "8000/8000 [==============================] - 4s 476us/step - loss: 0.4001 - acc: 0.8351\n",
            "Epoch 57/100\n",
            "8000/8000 [==============================] - 4s 465us/step - loss: 0.4003 - acc: 0.8352\n",
            "Epoch 58/100\n",
            "8000/8000 [==============================] - 4s 453us/step - loss: 0.4003 - acc: 0.8359\n",
            "Epoch 59/100\n",
            "8000/8000 [==============================] - 4s 452us/step - loss: 0.4005 - acc: 0.8344\n",
            "Epoch 60/100\n",
            "8000/8000 [==============================] - 4s 452us/step - loss: 0.4004 - acc: 0.8350\n",
            "Epoch 61/100\n",
            "8000/8000 [==============================] - 4s 448us/step - loss: 0.4000 - acc: 0.8352\n",
            "Epoch 62/100\n",
            "8000/8000 [==============================] - 4s 454us/step - loss: 0.4003 - acc: 0.8342\n",
            "Epoch 63/100\n",
            "8000/8000 [==============================] - 4s 449us/step - loss: 0.4002 - acc: 0.8351\n",
            "Epoch 64/100\n",
            "8000/8000 [==============================] - 4s 457us/step - loss: 0.4002 - acc: 0.8342\n",
            "Epoch 65/100\n",
            "8000/8000 [==============================] - 4s 451us/step - loss: 0.4007 - acc: 0.8347\n",
            "Epoch 66/100\n",
            "8000/8000 [==============================] - 4s 453us/step - loss: 0.4003 - acc: 0.8339\n",
            "Epoch 67/100\n",
            "8000/8000 [==============================] - 4s 451us/step - loss: 0.4003 - acc: 0.8346\n",
            "Epoch 68/100\n",
            "8000/8000 [==============================] - 4s 457us/step - loss: 0.4002 - acc: 0.8367\n",
            "Epoch 69/100\n",
            "8000/8000 [==============================] - 4s 451us/step - loss: 0.3995 - acc: 0.8361\n",
            "Epoch 70/100\n",
            "8000/8000 [==============================] - 4s 455us/step - loss: 0.4001 - acc: 0.8364\n",
            "Epoch 71/100\n",
            "8000/8000 [==============================] - 4s 457us/step - loss: 0.4000 - acc: 0.8371\n",
            "Epoch 72/100\n",
            "8000/8000 [==============================] - 4s 450us/step - loss: 0.3998 - acc: 0.8361\n",
            "Epoch 73/100\n",
            "8000/8000 [==============================] - 4s 452us/step - loss: 0.3999 - acc: 0.8354\n",
            "Epoch 74/100\n",
            "8000/8000 [==============================] - 4s 450us/step - loss: 0.3994 - acc: 0.8345\n",
            "Epoch 75/100\n",
            "8000/8000 [==============================] - 4s 451us/step - loss: 0.4004 - acc: 0.8360\n",
            "Epoch 76/100\n",
            "8000/8000 [==============================] - 4s 453us/step - loss: 0.3999 - acc: 0.8364\n",
            "Epoch 77/100\n",
            "8000/8000 [==============================] - 4s 450us/step - loss: 0.3992 - acc: 0.8336\n",
            "Epoch 78/100\n",
            "8000/8000 [==============================] - 4s 450us/step - loss: 0.4001 - acc: 0.8336\n",
            "Epoch 79/100\n",
            "8000/8000 [==============================] - 4s 450us/step - loss: 0.3995 - acc: 0.8347\n",
            "Epoch 80/100\n",
            "8000/8000 [==============================] - 4s 449us/step - loss: 0.4000 - acc: 0.8347\n",
            "Epoch 81/100\n",
            "8000/8000 [==============================] - 4s 449us/step - loss: 0.3999 - acc: 0.8357\n",
            "Epoch 82/100\n",
            "8000/8000 [==============================] - 4s 452us/step - loss: 0.3995 - acc: 0.8347\n",
            "Epoch 83/100\n",
            "8000/8000 [==============================] - 4s 455us/step - loss: 0.3998 - acc: 0.8364\n",
            "Epoch 84/100\n",
            "8000/8000 [==============================] - 4s 451us/step - loss: 0.3992 - acc: 0.8347\n",
            "Epoch 85/100\n",
            "8000/8000 [==============================] - 4s 454us/step - loss: 0.4000 - acc: 0.8345\n",
            "Epoch 86/100\n",
            "8000/8000 [==============================] - 4s 454us/step - loss: 0.3996 - acc: 0.8361\n",
            "Epoch 87/100\n",
            "8000/8000 [==============================] - 4s 452us/step - loss: 0.3998 - acc: 0.8344\n",
            "Epoch 88/100\n",
            "8000/8000 [==============================] - 4s 453us/step - loss: 0.3994 - acc: 0.8344\n",
            "Epoch 89/100\n",
            "8000/8000 [==============================] - 4s 453us/step - loss: 0.3997 - acc: 0.8356\n",
            "Epoch 90/100\n",
            "8000/8000 [==============================] - 4s 452us/step - loss: 0.3990 - acc: 0.8351\n",
            "Epoch 91/100\n",
            "8000/8000 [==============================] - 4s 453us/step - loss: 0.3994 - acc: 0.8347\n",
            "Epoch 92/100\n",
            "8000/8000 [==============================] - 4s 455us/step - loss: 0.3994 - acc: 0.8357\n",
            "Epoch 93/100\n",
            "8000/8000 [==============================] - 4s 455us/step - loss: 0.3992 - acc: 0.8359\n",
            "Epoch 94/100\n",
            "8000/8000 [==============================] - 4s 450us/step - loss: 0.3989 - acc: 0.8352\n",
            "Epoch 95/100\n",
            "8000/8000 [==============================] - 4s 455us/step - loss: 0.3987 - acc: 0.8355\n",
            "Epoch 96/100\n",
            "8000/8000 [==============================] - 4s 462us/step - loss: 0.3989 - acc: 0.8376\n",
            "Epoch 97/100\n",
            "8000/8000 [==============================] - 4s 470us/step - loss: 0.3995 - acc: 0.8349\n",
            "Epoch 98/100\n",
            "8000/8000 [==============================] - 4s 456us/step - loss: 0.3989 - acc: 0.8366\n",
            "Epoch 99/100\n",
            "8000/8000 [==============================] - 4s 468us/step - loss: 0.3991 - acc: 0.8366\n",
            "Epoch 100/100\n",
            "8000/8000 [==============================] - 4s 461us/step - loss: 0.3996 - acc: 0.8369\n"
          ],
          "name": "stdout"
        },
        {
          "output_type": "execute_result",
          "data": {
            "text/plain": [
              "<keras.callbacks.History at 0x7f84196709e8>"
            ]
          },
          "metadata": {
            "tags": []
          },
          "execution_count": 12
        }
      ]
    },
    {
      "metadata": {
        "id": "5n4YkpxMG2Hg",
        "colab_type": "code",
        "colab": {}
      },
      "cell_type": "code",
      "source": [
        ""
      ],
      "execution_count": 0,
      "outputs": []
    },
    {
      "metadata": {
        "id": "JTyNt4F--yzk",
        "colab_type": "code",
        "colab": {}
      },
      "cell_type": "code",
      "source": [
        "y_pred = model.predict(X_test)"
      ],
      "execution_count": 0,
      "outputs": []
    },
    {
      "metadata": {
        "id": "UYN_ynix--se",
        "colab_type": "code",
        "colab": {}
      },
      "cell_type": "code",
      "source": [
        "y_pred = (y_pred>0.5)"
      ],
      "execution_count": 0,
      "outputs": []
    },
    {
      "metadata": {
        "id": "9J1QkAE7_O6f",
        "colab_type": "code",
        "colab": {
          "base_uri": "https://localhost:8080/",
          "height": 51
        },
        "outputId": "14b9ddaa-61c5-435d-a5bd-6c916fd6f377"
      },
      "cell_type": "code",
      "source": [
        " from sklearn.metrics import confusion_matrix\n",
        " cm = confusion_matrix(y_test,y_pred) \n",
        "cm"
      ],
      "execution_count": 25,
      "outputs": [
        {
          "output_type": "execute_result",
          "data": {
            "text/plain": [
              "array([[1530,   65],\n",
              "       [ 254,  151]])"
            ]
          },
          "metadata": {
            "tags": []
          },
          "execution_count": 25
        }
      ]
    }
  ]
}